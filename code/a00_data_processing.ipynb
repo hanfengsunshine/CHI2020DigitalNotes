{
 "cells": [
  {
   "cell_type": "code",
   "execution_count": 1,
   "metadata": {},
   "outputs": [],
   "source": [
    "import subprocess\n",
    "import pandas as pd"
   ]
  },
  {
   "cell_type": "markdown",
   "metadata": {},
   "source": [
    "# Get file names as the nodes\n",
    "Be carefull, all the file names must not contain Chinese characters."
   ]
  },
  {
   "cell_type": "code",
   "execution_count": 34,
   "metadata": {},
   "outputs": [],
   "source": [
    "PATH = r'/Users/young/Desktop/paper/collections/Feng\\ Han/105paperproducts'\n",
    "cmd = r'ls %s | egrep \"^\\d.*\"' % (PATH)\n",
    "catalog = [d for d in subprocess.check_output(cmd, shell=True).decode('utf-8').split('\\n')][:-1]\n",
    "cmd = r'find %s -type f| egrep \".*jpg\"'%PATH\n",
    "products105 = [d.split('/')[-1].split('.')[0] for d in subprocess.check_output(cmd, shell=True).decode('utf-8').split('\\n')][:-1]\n"
   ]
  },
  {
   "cell_type": "code",
   "execution_count": 56,
   "metadata": {},
   "outputs": [
    {
     "name": "stdout",
     "output_type": "stream",
     "text": [
      "directories:  ['11book', '17package_container', '1bookmarkleaflet', '1calligraph', '1handcraft']\n",
      "files:  ['book1', 'book10', 'book11', 'book2', 'book3']\n"
     ]
    }
   ],
   "source": [
    "print('directories: ', catalog[:5])\n",
    "print('files: ', products105[:5])"
   ]
  },
  {
   "cell_type": "markdown",
   "metadata": {},
   "source": [
    "# Define the nodes at each level"
   ]
  },
  {
   "cell_type": "code",
   "execution_count": 36,
   "metadata": {},
   "outputs": [],
   "source": [
    "top_level = [\n",
    "    'Preprinted'\n",
    "]\n",
    "physic_features = [\n",
    "    'R.orientation',\n",
    "    'R.size',\n",
    "    'R.spatiality',\n",
    "    'R.texture',\n",
    "    'R.permeability'\n",
    "]\n",
    "information_features = [\n",
    "    'reorganize',\n",
    "    'cheap',\n",
    "    'protable',\n",
    "    'digitalized'\n",
    "]\n",
    "down_level = [\n",
    "    'user',\n",
    "    'AR',\n",
    "]"
   ]
  },
  {
   "cell_type": "markdown",
   "metadata": {},
   "source": [
    "# Save csv files which define all the weights of links\n",
    "You can later modify the weights at file `first_second.csv`(which defines the links between first and second level), `second_third.csv`, etc.\n",
    "\n",
    "<span style=\"color:red\"><B>ATTENTION:</B></span> Running the follow commented codes <span style=\"color:red\"><B>WILL OVERWRITE</B></span> your previous setting."
   ]
  },
  {
   "cell_type": "code",
   "execution_count": 47,
   "metadata": {},
   "outputs": [],
   "source": [
    "\"\"\"\n",
    "this block defines the structure of dataframe files\n",
    "\"\"\"\n",
    "# pd.DataFrame(1, index=products105, columns=(top_level)).to_csv('../data/first_second.csv')\n",
    "# pd.DataFrame(1, index=top_level, columns=(catalog)).to_csv('../data/second_third.csv')\n",
    "# pd.DataFrame(1, index=catalog, columns=(physic_features)).to_csv('../data/third_fourth.csv')\n",
    "# pd.DataFrame(1, index=physic_features, columns=(information_features)).to_csv('../data/fourth_fifth.csv')   \n",
    "# pd.DataFrame(1, index=information_features, columns=(down_level)).to_csv('../data/fifth_sixth.csv')  "
   ]
  },
  {
   "cell_type": "markdown",
   "metadata": {},
   "source": [
    "Ever time you change the `*.csv` file, you should <b> run the following code</b> so as to apply the change in the `link.json ` file which defines the final data of the sankey graph."
   ]
  },
  {
   "cell_type": "code",
   "execution_count": 60,
   "metadata": {},
   "outputs": [
    {
     "data": {
      "text/html": [
       "<div>\n",
       "<style scoped>\n",
       "    .dataframe tbody tr th:only-of-type {\n",
       "        vertical-align: middle;\n",
       "    }\n",
       "\n",
       "    .dataframe tbody tr th {\n",
       "        vertical-align: top;\n",
       "    }\n",
       "\n",
       "    .dataframe thead th {\n",
       "        text-align: right;\n",
       "    }\n",
       "</style>\n",
       "<table border=\"1\" class=\"dataframe\">\n",
       "  <thead>\n",
       "    <tr style=\"text-align: right;\">\n",
       "      <th></th>\n",
       "      <th>source</th>\n",
       "      <th>target</th>\n",
       "      <th>value</th>\n",
       "    </tr>\n",
       "  </thead>\n",
       "  <tbody>\n",
       "    <tr>\n",
       "      <th>0</th>\n",
       "      <td>book1</td>\n",
       "      <td>Preprinted</td>\n",
       "      <td>1</td>\n",
       "    </tr>\n",
       "    <tr>\n",
       "      <th>1</th>\n",
       "      <td>book1</td>\n",
       "      <td>Modifiable</td>\n",
       "      <td>1</td>\n",
       "    </tr>\n",
       "    <tr>\n",
       "      <th>2</th>\n",
       "      <td>book1</td>\n",
       "      <td>User_generated</td>\n",
       "      <td>1</td>\n",
       "    </tr>\n",
       "    <tr>\n",
       "      <th>3</th>\n",
       "      <td>book10</td>\n",
       "      <td>Preprinted</td>\n",
       "      <td>1</td>\n",
       "    </tr>\n",
       "    <tr>\n",
       "      <th>4</th>\n",
       "      <td>book10</td>\n",
       "      <td>Modifiable</td>\n",
       "      <td>1</td>\n",
       "    </tr>\n",
       "  </tbody>\n",
       "</table>\n",
       "</div>"
      ],
      "text/plain": [
       "   source          target  value\n",
       "0   book1      Preprinted      1\n",
       "1   book1      Modifiable      1\n",
       "2   book1  User_generated      1\n",
       "3  book10      Preprinted      1\n",
       "4  book10      Modifiable      1"
      ]
     },
     "execution_count": 60,
     "metadata": {},
     "output_type": "execute_result"
    }
   ],
   "source": [
    "def link_generator(df):\n",
    "    for i, row in df.iterrows():\n",
    "        for j, cell in row.iteritems():\n",
    "            if cell==1:\n",
    "                yield dict(source=i, target=j, value=1)\n",
    "\n",
    "links = pd.DataFrame()\n",
    "# change this to modify different level of the sankey graph\n",
    "for file in ['first_second', 'second_third', 'third_fourth', 'fourth_fifth', 'fifth_sixth']:  \n",
    "    csv_file = pd.read_csv('../data/%s.csv'%file, index_col=0)\n",
    "    links = pd.concat([links, pd.DataFrame(list(link_generator(csv_file)))])\n",
    "links.to_json(orient='values', path_or_buf='../data/links.json')\n",
    "links.head()"
   ]
  },
  {
   "cell_type": "markdown",
   "metadata": {},
   "source": [
    "# Other solutions for drawing the Sankey chart (deprecate in this project)"
   ]
  },
  {
   "cell_type": "code",
   "execution_count": 30,
   "metadata": {},
   "outputs": [
    {
     "data": {
      "application/vnd.jupyter.widget-view+json": {
       "model_id": "41493e01aed04ff9ba55ad8d3b3c8cd1",
       "version_major": 2,
       "version_minor": 0
      },
      "text/plain": [
       "SankeyWidget(layout=Layout(height='800', width='1000'), links=[{'source': 'Preprinted', 'target': '11book', 'v…"
      ]
     },
     "metadata": {},
     "output_type": "display_data"
    }
   ],
   "source": [
    "from ipysankeywidget import SankeyWidget\n",
    "from ipywidgets import Layout\n",
    "from IPython.display import (\n",
    "    Image,\n",
    "    SVG\n",
    ")\n",
    "\n",
    "layout = Layout(width=\"1000\", height=\"800\")\n",
    "sankey = SankeyWidget(links=flows.to_dict('records'), layout=layout)\n",
    "sankey\n",
    "sankey.auto_save_png('test.png')"
   ]
  },
  {
   "cell_type": "code",
   "execution_count": 62,
   "metadata": {
    "scrolled": true
   },
   "outputs": [],
   "source": [
    "import plotly.plotly as py\n",
    "import plotly\n",
    "import plotly.io as pio\n",
    "# from plotly.offline import iplot, init_notebook_mode\n",
    "\n",
    "\n",
    "data = dict(\n",
    "    type='sankey',\n",
    "    node = dict(\n",
    "      pad = 15,\n",
    "      thickness = 20,\n",
    "      line = dict(\n",
    "        color = \"black\",\n",
    "        width = 0.5\n",
    "      ),\n",
    "      label = [\"A1\", \"A2\", \"B1\", \"B2\", \"C1\", \"C2\"],\n",
    "      color = [\"blue\", \"blue\", \"blue\", \"blue\", \"blue\", \"blue\"]\n",
    "    ),\n",
    "    link = dict(\n",
    "      source = [0,1,0,2,3,3],\n",
    "      target = [2,3,3,4,4,5],\n",
    "      value = [8,4,2,8,4,2]\n",
    "  ))\n",
    "\n",
    "layout =  dict(\n",
    "    title = \"Basic Sankey Diagram\",\n",
    "    font = dict(\n",
    "      size = 10\n",
    "    )\n",
    ")\n",
    "\n",
    "fig = dict(data=[data], layout=layout)\n",
    "py.iplot(fig, validate=False)\n",
    "# pio.write_image(fig, 'fig1.pdf')"
   ]
  },
  {
   "cell_type": "code",
   "execution_count": null,
   "metadata": {},
   "outputs": [],
   "source": []
  }
 ],
 "metadata": {
  "kernelspec": {
   "display_name": "Python 3",
   "language": "python",
   "name": "python3"
  },
  "language_info": {
   "codemirror_mode": {
    "name": "ipython",
    "version": 3
   },
   "file_extension": ".py",
   "mimetype": "text/x-python",
   "name": "python",
   "nbconvert_exporter": "python",
   "pygments_lexer": "ipython3",
   "version": "3.6.8"
  }
 },
 "nbformat": 4,
 "nbformat_minor": 2
}
